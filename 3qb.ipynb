{
 "cells": [
  {
   "cell_type": "code",
   "execution_count": 1,
   "metadata": {},
   "outputs": [
    {
     "name": "stderr",
     "output_type": "stream",
     "text": [
      "configrc.store_credentials:WARNING:2020-05-03 10:48:10,416: Credentials already present. Set overwrite=True to overwrite.\n"
     ]
    },
    {
     "data": {
      "text/plain": [
       "<AccountProvider for IBMQ(hub='ibm-q-university', group='harvard-lukin', project='phys160')>"
      ]
     },
     "execution_count": 1,
     "metadata": {},
     "output_type": "execute_result"
    }
   ],
   "source": [
    "%matplotlib inline\n",
    "# Importing standard Qiskit libraries and configuring account\n",
    "from qiskit import QuantumCircuit, execute, Aer, IBMQ, QuantumRegister, ClassicalRegister\n",
    "from qiskit.compiler import transpile, assemble\n",
    "from qiskit.tools.jupyter import *\n",
    "from qiskit.visualization import *\n",
    "\n",
    "#import math tools\n",
    "import numpy as np\n",
    "from scipy.linalg import expm\n",
    "\n",
    "# We import the tools to handle general Graphs\n",
    "import networkx as nx\n",
    "\n",
    "# We import plotting tools \n",
    "import matplotlib.pyplot as plt \n",
    "from   matplotlib import cm\n",
    "from   matplotlib.ticker import LinearLocator, FormatStrFormatter\n",
    "%config InlineBackend.figure_format = 'svg' # Makes the images look nice\n",
    "\n",
    "import account\n",
    "\n",
    "# Loading your IBM Q account(s)\n",
    "IBMQ.load_account()\n",
    "# provider = IBMQ.get_provider(hub='ibm-q-university', group='harvard-lukin', project='phys160')\n",
    "IBMQ.get_provider(hub='ibm-q-university', group='harvard-lukin', project='phys160')"
   ]
  },
  {
   "cell_type": "code",
   "execution_count": 2,
   "metadata": {},
   "outputs": [],
   "source": [
    "# encode initial state, returns a quantum circuit\n",
    "def encode(initial_state):\n",
    "    qr = QuantumRegister(5) # 5 lines, 3 are for encoding (0,1,2), 2 are ancillary qubits (3,4)\n",
    "    cr = ClassicalRegister(2) # 2 classical registers for measurement outcomes\n",
    "    qc = QuantumCircuit(qr, cr)\n",
    "    qc.initialize(initial_state, 0)\n",
    "    qc.cx(qr[0],qr[1])\n",
    "    qc.cx(qr[0],qr[2])\n",
    "    return qc"
   ]
  },
  {
   "cell_type": "code",
   "execution_count": null,
   "metadata": {},
   "outputs": [],
   "source": [
    "# after performing an operation on the encoded state, correct the error\n",
    "def correct_error(qc):\n",
    "    qr = qc.qregs[0]\n",
    "    cr = qc.cregs[0]\n",
    "    \n",
    "    # initialize the ancillary qubits to 0\n",
    "    qc.initialize([1,0], 3)\n",
    "    qc.initialize([1,0], 4)\n",
    "    \n",
    "    # attach CNOTs\n",
    "    qc.cx(qr[0], qr[3])\n",
    "    qc.cx(qr[1], qr[3])\n",
    "    \n",
    "    qc.cx(qr[0], qr[4])\n",
    "    qc.cx(qr[2], qr[4])\n",
    "    \n",
    "    # measure the ancillary qubits\n",
    "    qc.measure(qr[3], cr[0]) # first ancillary qubit's measurement in first classical register\n",
    "    qc.measure(qr[4], cr[1]) # second ancillary qubit's measurement in second classical register\n",
    "    \n",
    "    # apply X gate to correct error based on measurement outcomes\n",
    "    qc.x(qr[0]).c_if(cr, 3) # if the classical register says |11>, or \"3\", then apply on qb 0\n",
    "    qc.x(qr[1]).c_if(cr, 2) # |10> means qb 2 has the error\n",
    "    qc.x(qr[2]).c_if(cr, 1) # |01> means qb 3 has the error\n",
    "    \n",
    "    #remove the gates that were just added\n",
    "    for i in range(9):\n",
    "        qc.data.pop(len(qc.data)-1)"
   ]
  }
 ],
 "metadata": {
  "kernelspec": {
   "display_name": "Python 3",
   "language": "python",
   "name": "python3"
  },
  "language_info": {
   "codemirror_mode": {
    "name": "ipython",
    "version": 3
   },
   "file_extension": ".py",
   "mimetype": "text/x-python",
   "name": "python",
   "nbconvert_exporter": "python",
   "pygments_lexer": "ipython3",
   "version": "3.7.4"
  }
 },
 "nbformat": 4,
 "nbformat_minor": 2
}
